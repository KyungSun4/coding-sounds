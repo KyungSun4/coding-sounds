{
 "cells": [
  {
   "cell_type": "code",
   "execution_count": 23,
   "metadata": {},
   "outputs": [],
   "source": [
    "import wave\n",
    "import struct"
   ]
  },
  {
   "cell_type": "code",
   "execution_count": 28,
   "metadata": {},
   "outputs": [],
   "source": [
    "# generate short clip of single tone\n",
    "out_file = wave.open(\"first.wav\", \"w\")\n",
    "out_file.setnchannels(1)\n",
    "out_file.setsampwidth(2)\n",
    "out_file.setframerate(44100)\n",
    "out_file.setcomptype(\"NONE\", \"Not Compressed\")\n",
    "binstr = b\"\"\n",
    "for x in range(1000):\n",
    "    for i in range(0,80):\n",
    "        binstr = binstr + struct.pack('h', 0)\n",
    "    for i in range(0,80):\n",
    "        binstr = binstr + struct.pack('h', 2000)\n",
    "out_file.writeframesraw(binstr)\n",
    "out_file.close()"
   ]
  },
  {
   "cell_type": "code",
   "execution_count": 39,
   "metadata": {},
   "outputs": [],
   "source": [
    "out_file = wave.open(\"second.wav\", \"w\")\n",
    "out_file.setnchannels(1)\n",
    "out_file.setsampwidth(2)\n",
    "out_file.setframerate(44100)\n",
    "out_file.setcomptype(\"NONE\", \"Not Compressed\")\n",
    "binstr = b\"\"\n",
    "for x in range(1000):\n",
    "    for i in range(0,40):\n",
    "        binstr = binstr + struct.pack('h', 0)\n",
    "    for i in range(0,40):\n",
    "        binstr = binstr + struct.pack('h', 500)\n",
    "    for i in range(0,40):\n",
    "        binstr = binstr + struct.pack('h', 1000)\n",
    "    for i in range(0,40):\n",
    "        binstr = binstr + struct.pack('h', 1500)\n",
    "out_file.writeframesraw(binstr)\n",
    "out_file.close()"
   ]
  },
  {
   "cell_type": "code",
   "execution_count": 40,
   "metadata": {},
   "outputs": [],
   "source": [
    "import random\n",
    "out_file = wave.open(\"random.wav\", \"w\")\n",
    "out_file.setnchannels(1)\n",
    "out_file.setsampwidth(2)\n",
    "out_file.setframerate(44100)\n",
    "out_file.setcomptype(\"NONE\", \"Not Compressed\")\n",
    "binstr = b\"\"\n",
    "for x in range(1000):\n",
    "    rand = random.random()\n",
    "    for i in range(0,180):\n",
    "        binstr = binstr + struct.pack('h', round(rand*2000))\n",
    "out_file.writeframesraw(binstr)\n",
    "out_file.close()"
   ]
  },
  {
   "cell_type": "code",
   "execution_count": 44,
   "metadata": {},
   "outputs": [],
   "source": [
    "import random\n",
    "out_file = wave.open(\"random2.wav\", \"w\")\n",
    "out_file.setnchannels(1)\n",
    "out_file.setsampwidth(2)\n",
    "out_file.setframerate(44100)\n",
    "out_file.setcomptype(\"NONE\", \"Not Compressed\")\n",
    "binstr = b\"\"\n",
    "for x in range(1000):\n",
    "    rand = random.random()\n",
    "    for i in range(0,500):\n",
    "        binstr = binstr + struct.pack('h', round(rand*2000))\n",
    "out_file.writeframesraw(binstr)\n",
    "out_file.close()"
   ]
  },
  {
   "cell_type": "code",
   "execution_count": null,
   "metadata": {},
   "outputs": [],
   "source": [
    "out_file = wave.open(\"random_dark.wav\", \"w\")\n",
    "out_file.setnchannels(1)\n",
    "out_file.setsampwidth(2)\n",
    "out_file.setframerate(44100)\n",
    "out_file.setcomptype(\"NONE\", \"Not Compressed\")\n",
    "binstr = b\"\"\n",
    "for x in range(500):\n",
    "    rand = random.random()\n",
    "    for i in range(0,500):\n",
    "        binstr = binstr + struct.pack('h', 1000+round(rand*1000))\n",
    "    for i in range(0,500):\n",
    "        binstr = binstr + struct.pack('h', 1000-round(rand*1000))\n",
    "out_file.writeframesraw(binstr)\n",
    "out_file.close()"
   ]
  },
  {
   "cell_type": "code",
   "execution_count": null,
   "metadata": {},
   "outputs": [],
   "source": []
  }
 ],
 "metadata": {
  "kernelspec": {
   "display_name": "Python 3",
   "language": "python",
   "name": "python3"
  },
  "language_info": {
   "codemirror_mode": {
    "name": "ipython",
    "version": 3
   },
   "file_extension": ".py",
   "mimetype": "text/x-python",
   "name": "python",
   "nbconvert_exporter": "python",
   "pygments_lexer": "ipython3",
   "version": "3.6.5"
  }
 },
 "nbformat": 4,
 "nbformat_minor": 2
}
